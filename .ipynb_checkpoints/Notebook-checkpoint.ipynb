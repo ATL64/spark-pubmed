{
 "cells": [
  {
   "cell_type": "code",
   "execution_count": 24,
   "metadata": {},
   "outputs": [],
   "source": [
    "from pyspark.sql import SparkSession\n",
    "from google.cloud import storage\n",
    "import requests\n",
    "import json"
   ]
  },
  {
   "cell_type": "code",
   "execution_count": null,
   "metadata": {},
   "outputs": [],
   "source": [
    "#Fill here your parameters to load the data\n",
    "year_begin = 1985\n",
    "year_end = 1990\n",
    "your_bucket = 'your_bucket'\n",
    "your_path = 'your_folder_in_the_bucket'"
   ]
  },
  {
   "cell_type": "code",
   "execution_count": 25,
   "metadata": {},
   "outputs": [],
   "source": [
    "#Create spark session\n",
    "spark = SparkSession.builder \\\n",
    "  .appName('Pull pubmed data into GCS bucket') \\\n",
    "  .getOrCreate()"
   ]
  },
  {
   "cell_type": "code",
   "execution_count": 26,
   "metadata": {},
   "outputs": [],
   "source": [
    "#Check what is in the gcs bucket already\n",
    "\n",
    "#gcs_client = storage.Client()\n",
    "#bucket = gcs_client.bucket(your_bucket)\n",
    "\n",
    "#list(bucket.list_blobs(prefix='pubmed_data'))\n",
    "#Should only list 'pubmed_data/' if it's empty"
   ]
  },
  {
   "cell_type": "code",
   "execution_count": 27,
   "metadata": {
    "scrolled": true
   },
   "outputs": [
    {
     "name": "stdout",
     "output_type": "stream",
     "text": [
      "1959_1\n",
      "1959_2\n",
      "1959_3\n",
      "1959_4\n",
      "1959_5\n",
      "1959_6\n",
      "1959_7\n",
      "1959_8\n",
      "1959_9\n",
      "1959_10\n",
      "1959_11\n",
      "1959_12\n"
     ]
    }
   ],
   "source": [
    "# Set pubmed parameters\n",
    "list_year = range(year_begin, year_end)\n",
    "list_month = range(1,13)\n",
    "year_url_total = []\n",
    "for year in list_year:\n",
    "    for month in list_month:\n",
    "        if month!=12:\n",
    "            search_url = 'https://eutils.ncbi.nlm.nih.gov/entrez/eutils/esearch.fcgi?db=pubmed&mindate='+str(year)+'/'+str(month)+'/01&maxdate='+str(year)+'/'+str(month+1)+'/01&usehistory=y&retmode=json'\n",
    "        else:\n",
    "            search_url = 'https://eutils.ncbi.nlm.nih.gov/entrez/eutils/esearch.fcgi?db=pubmed&mindate='+str(year)+'/'+str(month)+'/01&maxdate='+str(year+1)+'/01/01&usehistory=y&retmode=json'\n",
    "        search_r = requests.post(search_url)\n",
    "        search_data = search_r.json()\n",
    "        webenv = search_data[\"esearchresult\"]['webenv']\n",
    "        total_records = int(search_data[\"esearchresult\"]['count'])\n",
    "        fetch_url = \"https://eutils.ncbi.nlm.nih.gov/entrez/eutils/efetch.fcgi?db=pubmed&retmax=9999&query_key=1&webenv=\"+webenv\n",
    "        temp_list = [year, month, fetch_url, total_records]\n",
    "        year_url_total.append(temp_list)\n",
    "        print(str(year)+'_'+str(month))"
   ]
  },
  {
   "cell_type": "code",
   "execution_count": 8,
   "metadata": {},
   "outputs": [],
   "source": [
    "#year_url_total"
   ]
  },
  {
   "cell_type": "code",
   "execution_count": 28,
   "metadata": {},
   "outputs": [],
   "source": [
    "def upload_to_bucket(blob_name, string):\n",
    "    \"\"\" Upload data to a bucket\"\"\"\n",
    "\n",
    "    gcs_client = storage.Client()\n",
    "    bucket = gcs_client.bucket(your_bucket)\n",
    "    blob = bucket.blob(blob_name)\n",
    "    blob.upload_from_string(string)\n",
    "\n",
    "    #returns a public url\n",
    "    return blob.public_url"
   ]
  },
  {
   "cell_type": "code",
   "execution_count": 29,
   "metadata": {},
   "outputs": [],
   "source": [
    "def run_uploads_year(year_url_total):\n",
    "    year = year_url_total[0]\n",
    "    month = year_url_total[1]\n",
    "    fetch_url = year_url_total[2]\n",
    "    total_records = year_url_total[3]\n",
    "    for i in range(0, total_records, 10000):\n",
    "        this_fetch = fetch_url+\"&retstart=\"+str(i)\n",
    "        #print(\"Getting this URL: \"+this_fetch)\n",
    "        fetch_r = requests.post(this_fetch)\n",
    "        fetch_r = requests.post(this_fetch)\n",
    "        final_string_to_upload = fetch_r.content\n",
    "        file_path = your_path + '/' + str(year) + '_' + str(month) +'_num_' + str(i)\n",
    "        upload_to_bucket(file_path, final_string_to_upload)"
   ]
  },
  {
   "cell_type": "code",
   "execution_count": 33,
   "metadata": {},
   "outputs": [],
   "source": [
    "dist_urls = sc.parallelize(year_url_total).repartition(sc.defaultParallelism * 3)"
   ]
  },
  {
   "cell_type": "code",
   "execution_count": 34,
   "metadata": {},
   "outputs": [
    {
     "data": {
      "text/plain": [
       "MapPartitionsRDD[12] at coalesce at NativeMethodAccessorImpl.java:0"
      ]
     },
     "execution_count": 34,
     "metadata": {},
     "output_type": "execute_result"
    }
   ],
   "source": [
    "dist_urls"
   ]
  },
  {
   "cell_type": "code",
   "execution_count": 35,
   "metadata": {},
   "outputs": [
    {
     "data": {
      "text/plain": [
       "6"
      ]
     },
     "execution_count": 35,
     "metadata": {},
     "output_type": "execute_result"
    }
   ],
   "source": [
    "dist_urls.getNumPartitions()"
   ]
  },
  {
   "cell_type": "code",
   "execution_count": null,
   "metadata": {},
   "outputs": [],
   "source": [
    "dist_urls.foreach(lambda year_url_total: run_uploads_year(year_url_total))"
   ]
  }
 ],
 "metadata": {
  "kernelspec": {
   "display_name": "Python 3",
   "language": "python",
   "name": "python3"
  },
  "language_info": {
   "codemirror_mode": {
    "name": "ipython",
    "version": 3
   },
   "file_extension": ".py",
   "mimetype": "text/x-python",
   "name": "python",
   "nbconvert_exporter": "python",
   "pygments_lexer": "ipython3",
   "version": "3.7.6"
  }
 },
 "nbformat": 4,
 "nbformat_minor": 2
}
